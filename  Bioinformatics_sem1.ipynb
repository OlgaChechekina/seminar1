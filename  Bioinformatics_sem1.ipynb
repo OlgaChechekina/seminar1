{
  "nbformat": 4,
  "nbformat_minor": 0,
  "metadata": {
    "colab": {
      "name": "Untitled1.ipynb",
      "provenance": [],
      "authorship_tag": "ABX9TyOKhmkpuwidIJ/TTypp3R0r",
      "include_colab_link": true
    },
    "kernelspec": {
      "name": "python3",
      "display_name": "Python 3"
    }
  },
  "cells": [
    {
      "cell_type": "markdown",
      "metadata": {
        "id": "view-in-github",
        "colab_type": "text"
      },
      "source": [
        "<a href=\"https://colab.research.google.com/github/OlgaChechekina/seminar1/blob/master/%20Bioinformatics_sem1.ipynb\" target=\"_parent\"><img src=\"https://colab.research.google.com/assets/colab-badge.svg\" alt=\"Open In Colab\"/></a>"
      ]
    },
    {
      "cell_type": "code",
      "metadata": {
        "id": "12IfKhx_X3Ik",
        "colab_type": "code",
        "colab": {
          "base_uri": "https://localhost:8080/",
          "height": 35
        },
        "outputId": "3aaa4b4e-87a1-4758-924c-a98ef02c16da"
      },
      "source": [
        "!ls\n",
        "#!-это линукс значит видимо"
      ],
      "execution_count": 1,
      "outputs": [
        {
          "output_type": "stream",
          "text": [
            "sample_data\n"
          ],
          "name": "stdout"
        }
      ]
    },
    {
      "cell_type": "code",
      "metadata": {
        "id": "DpnxNjtoYTcK",
        "colab_type": "code",
        "colab": {
          "base_uri": "https://localhost:8080/",
          "height": 35
        },
        "outputId": "95495d4f-52a0-4373-cd06-ea00c130ceb7"
      },
      "source": [
        "!ls -a\n",
        "#a - all"
      ],
      "execution_count": 2,
      "outputs": [
        {
          "output_type": "stream",
          "text": [
            ".  ..  .config\tsample_data\n"
          ],
          "name": "stdout"
        }
      ]
    },
    {
      "cell_type": "code",
      "metadata": {
        "id": "u0lscPTZYcG3",
        "colab_type": "code",
        "colab": {
          "base_uri": "https://localhost:8080/",
          "height": 104
        },
        "outputId": "17132bff-11e0-467c-c49a-97461be8d80d"
      },
      "source": [
        "!ls -la\n",
        "#la - additional info"
      ],
      "execution_count": 3,
      "outputs": [
        {
          "output_type": "stream",
          "text": [
            "total 16\n",
            "drwxr-xr-x 1 root root 4096 Sep 14 16:31 .\n",
            "drwxr-xr-x 1 root root 4096 Sep 16 10:04 ..\n",
            "drwxr-xr-x 1 root root 4096 Sep 14 16:31 .config\n",
            "drwxr-xr-x 1 root root 4096 Sep 14 16:31 sample_data\n"
          ],
          "name": "stdout"
        }
      ]
    },
    {
      "cell_type": "code",
      "metadata": {
        "id": "7Qi9tBnmY7ct",
        "colab_type": "code",
        "colab": {
          "base_uri": "https://localhost:8080/",
          "height": 35
        },
        "outputId": "12bad1a4-c171-4962-e809-8ac55048cb73"
      },
      "source": [
        "!mkdir olga\n",
        "#make directory = mkdir"
      ],
      "execution_count": 8,
      "outputs": [
        {
          "output_type": "stream",
          "text": [
            "mkdir: cannot create directory ‘olga’: File exists\n"
          ],
          "name": "stdout"
        }
      ]
    },
    {
      "cell_type": "code",
      "metadata": {
        "id": "fZwwMvGNZVAB",
        "colab_type": "code",
        "colab": {
          "base_uri": "https://localhost:8080/",
          "height": 35
        },
        "outputId": "1b9b25c6-fb76-4903-f7c2-af32a2e02d04"
      },
      "source": [
        "!ls"
      ],
      "execution_count": 9,
      "outputs": [
        {
          "output_type": "stream",
          "text": [
            "olga  sample_data\n"
          ],
          "name": "stdout"
        }
      ]
    },
    {
      "cell_type": "code",
      "metadata": {
        "id": "6PuVDowlZnVW",
        "colab_type": "code",
        "colab": {}
      },
      "source": [
        "!cd olga\n",
        "#change directory"
      ],
      "execution_count": 10,
      "outputs": []
    },
    {
      "cell_type": "code",
      "metadata": {
        "id": "mDQamSbpZyNk",
        "colab_type": "code",
        "colab": {
          "base_uri": "https://localhost:8080/",
          "height": 35
        },
        "outputId": "14fc0b3c-9f03-4953-ec6b-f67cbafba81c"
      },
      "source": [
        "!mkdir sem2"
      ],
      "execution_count": 14,
      "outputs": [
        {
          "output_type": "stream",
          "text": [
            "mkdir: cannot create directory ‘sem2’: File exists\n"
          ],
          "name": "stdout"
        }
      ]
    },
    {
      "cell_type": "code",
      "metadata": {
        "id": "JlRm0ipNaOkZ",
        "colab_type": "code",
        "colab": {}
      },
      "source": [
        "!cd sem2"
      ],
      "execution_count": 15,
      "outputs": []
    },
    {
      "cell_type": "code",
      "metadata": {
        "id": "uVFyyKIBaRMB",
        "colab_type": "code",
        "colab": {
          "base_uri": "https://localhost:8080/",
          "height": 35
        },
        "outputId": "6b50eca9-80b6-4682-c81f-8ca3f8a15637"
      },
      "source": [
        "cd sem2\n"
      ],
      "execution_count": 16,
      "outputs": [
        {
          "output_type": "stream",
          "text": [
            "/content/sem2\n"
          ],
          "name": "stdout"
        }
      ]
    },
    {
      "cell_type": "code",
      "metadata": {
        "id": "Mh-X7gw0aYpH",
        "colab_type": "code",
        "colab": {
          "base_uri": "https://localhost:8080/",
          "height": 35
        },
        "outputId": "da9046dd-17f7-43c7-ce01-ca5888004245"
      },
      "source": [
        "cd /"
      ],
      "execution_count": 17,
      "outputs": [
        {
          "output_type": "stream",
          "text": [
            "/\n"
          ],
          "name": "stdout"
        }
      ]
    },
    {
      "cell_type": "code",
      "metadata": {
        "id": "qt7C1efJadq1",
        "colab_type": "code",
        "colab": {
          "base_uri": "https://localhost:8080/",
          "height": 35
        },
        "outputId": "45d9753f-b1d0-470a-e136-70fed5c1a851"
      },
      "source": [
        "pwd"
      ],
      "execution_count": 18,
      "outputs": [
        {
          "output_type": "execute_result",
          "data": {
            "application/vnd.google.colaboratory.intrinsic+json": {
              "type": "string"
            },
            "text/plain": [
              "'/'"
            ]
          },
          "metadata": {
            "tags": []
          },
          "execution_count": 18
        }
      ]
    },
    {
      "cell_type": "code",
      "metadata": {
        "id": "vcNEeaegauHl",
        "colab_type": "code",
        "colab": {
          "base_uri": "https://localhost:8080/",
          "height": 35
        },
        "outputId": "1ea9ab3d-a9ee-4ea4-d8b2-79a4af69ca87"
      },
      "source": [
        "!pwd"
      ],
      "execution_count": 19,
      "outputs": [
        {
          "output_type": "stream",
          "text": [
            "/\n"
          ],
          "name": "stdout"
        }
      ]
    },
    {
      "cell_type": "code",
      "metadata": {
        "id": "4yvwiJoFawCU",
        "colab_type": "code",
        "colab": {
          "base_uri": "https://localhost:8080/",
          "height": 52
        },
        "outputId": "d5ad71e7-e469-4c58-ef8f-b903d21caeaf"
      },
      "source": [
        "cd sem2"
      ],
      "execution_count": 20,
      "outputs": [
        {
          "output_type": "stream",
          "text": [
            "[Errno 2] No such file or directory: 'sem2'\n",
            "/\n"
          ],
          "name": "stdout"
        }
      ]
    },
    {
      "cell_type": "code",
      "metadata": {
        "id": "QYQWqtNva1C_",
        "colab_type": "code",
        "colab": {
          "base_uri": "https://localhost:8080/",
          "height": 35
        },
        "outputId": "9c469404-7d9a-4493-bc07-b17e2d970b88"
      },
      "source": [
        "!cd sem2"
      ],
      "execution_count": 21,
      "outputs": [
        {
          "output_type": "stream",
          "text": [
            "/bin/bash: line 0: cd: sem2: No such file or directory\n"
          ],
          "name": "stdout"
        }
      ]
    },
    {
      "cell_type": "code",
      "metadata": {
        "id": "9r2Fo6Oua4AU",
        "colab_type": "code",
        "colab": {
          "base_uri": "https://localhost:8080/",
          "height": 35
        },
        "outputId": "74a03141-bc86-44e0-9065-25256f93810f"
      },
      "source": [
        "!cd olga\n"
      ],
      "execution_count": 22,
      "outputs": [
        {
          "output_type": "stream",
          "text": [
            "/bin/bash: line 0: cd: olga: No such file or directory\n"
          ],
          "name": "stdout"
        }
      ]
    },
    {
      "cell_type": "code",
      "metadata": {
        "id": "1CV5Jw5ybO4j",
        "colab_type": "code",
        "colab": {
          "base_uri": "https://localhost:8080/",
          "height": 35
        },
        "outputId": "1d4115e4-789d-47e0-9962-4453c9467a1e"
      },
      "source": [
        "!pwd"
      ],
      "execution_count": 23,
      "outputs": [
        {
          "output_type": "stream",
          "text": [
            "/\n"
          ],
          "name": "stdout"
        }
      ]
    },
    {
      "cell_type": "code",
      "metadata": {
        "id": "gnhvHeBPbTBL",
        "colab_type": "code",
        "colab": {
          "base_uri": "https://localhost:8080/",
          "height": 35
        },
        "outputId": "1f1b887d-1493-4dcd-acb2-55daad9603a8"
      },
      "source": [
        "!cd semw"
      ],
      "execution_count": 24,
      "outputs": [
        {
          "output_type": "stream",
          "text": [
            "/bin/bash: line 0: cd: semw: No such file or directory\n"
          ],
          "name": "stdout"
        }
      ]
    },
    {
      "cell_type": "code",
      "metadata": {
        "id": "isqM7v4dbWvE",
        "colab_type": "code",
        "colab": {
          "base_uri": "https://localhost:8080/",
          "height": 35
        },
        "outputId": "cadcf8e3-66dd-4646-fea8-b57aa5734275"
      },
      "source": [
        "!cd sem2"
      ],
      "execution_count": 25,
      "outputs": [
        {
          "output_type": "stream",
          "text": [
            "/bin/bash: line 0: cd: sem2: No such file or directory\n"
          ],
          "name": "stdout"
        }
      ]
    },
    {
      "cell_type": "code",
      "metadata": {
        "id": "mjpKJSkybZWx",
        "colab_type": "code",
        "colab": {
          "base_uri": "https://localhost:8080/",
          "height": 35
        },
        "outputId": "63649ad3-ba40-4824-b89a-552b61346179"
      },
      "source": [
        "!cd ~\n",
        "!pwd"
      ],
      "execution_count": 28,
      "outputs": [
        {
          "output_type": "stream",
          "text": [
            "/\n"
          ],
          "name": "stdout"
        }
      ]
    },
    {
      "cell_type": "code",
      "metadata": {
        "id": "cUqAx-fVcEXG",
        "colab_type": "code",
        "colab": {}
      },
      "source": [
        "#cd ~ в домашнюю директорию"
      ],
      "execution_count": 29,
      "outputs": []
    },
    {
      "cell_type": "code",
      "metadata": {
        "id": "dDG7HImWcODb",
        "colab_type": "code",
        "colab": {}
      },
      "source": [
        "!touch dna.txt\n",
        "#create a file"
      ],
      "execution_count": 32,
      "outputs": []
    },
    {
      "cell_type": "code",
      "metadata": {
        "id": "qwXK3En1cflJ",
        "colab_type": "code",
        "colab": {
          "base_uri": "https://localhost:8080/",
          "height": 35
        },
        "outputId": "411b5b77-4699-4205-cc01-9efe89790ae8"
      },
      "source": [
        "!cd sem2"
      ],
      "execution_count": 33,
      "outputs": [
        {
          "output_type": "stream",
          "text": [
            "/bin/bash: line 0: cd: sem2: No such file or directory\n"
          ],
          "name": "stdout"
        }
      ]
    },
    {
      "cell_type": "code",
      "metadata": {
        "id": "SMls0oF_dCdz",
        "colab_type": "code",
        "colab": {
          "base_uri": "https://localhost:8080/",
          "height": 1000
        },
        "outputId": "383e0467-55b6-4e5c-b01b-4e91734df4fe"
      },
      "source": [
        "!cat geneticCode.txt"
      ],
      "execution_count": 34,
      "outputs": [
        {
          "output_type": "stream",
          "text": [
            "# DNA codon table. Stop codon is coded as: Stp, O, Stop\n",
            "#Codon\t    AminoAcid\tLetter\t FullName\n",
            "AAA\tLys\tK\tLysine\n",
            "AAC\tAsn\tN\tAsparagine\n",
            "AAG\tLys\tK\tLysine\n",
            "AAT\tAsn\tN\tAsparagine\n",
            "ACA\tThr\tT\tThreonine\n",
            "ACC\tThr\tT\tThreonine\n",
            "ACG\tThr\tT\tThreonine\n",
            "ACT\tThr\tT\tThreonine\n",
            "AGA\tArg\tR\tArginine\n",
            "AGC\tSer\tS\tSerine\n",
            "AGG\tArg\tR\tArginine\n",
            "AGT\tSer\tS\tSerine\n",
            "ATA\tIle\tI\tIsoleucine\n",
            "ATC\tIle\tI\tIsoleucine\n",
            "ATG\tMet\tM\tMethionine\n",
            "ATT\tIle\tI\tIsoleucine\n",
            "CAA\tGln\tQ\tGlutamine\n",
            "CAC\tHis\tH\tHistidine\n",
            "CAG\tGln\tQ\tGlutamine\n",
            "CAT\tHis\tH\tHistidine\n",
            "CCA\tPro\tP\tProline\n",
            "CCC\tPro\tP\tProline\n",
            "CCG\tPro\tP\tProline\n",
            "CCT\tPro\tP\tProline\n",
            "CGA\tArg\tR\tArginine\n",
            "CGC\tArg\tR\tArginine\n",
            "CGG\tArg\tR\tArginine\n",
            "CGT\tArg\tR\tArginine\n",
            "CTA\tLeu\tL\tLeucine\n",
            "CTC\tLeu\tL\tLeucine\n",
            "CTG\tLeu\tL\tLeucine\n",
            "CTT\tLeu\tL\tLeucine\n",
            "GAA\tGlu\tE\tGlutamic_acid\n",
            "GAC\tAsp\tD\tAspartic_acid\n",
            "GAG\tGlu\tE\tGlutamic_acid\n",
            "GAT\tAsp\tD\tAspartic_acid\n",
            "GCA\tAla\tA\tAlanine\t\n",
            "GCC\tAla\tA\tAlanine\t\n",
            "GCG\tAla\tA\tAlanine\t\n",
            "GCT\tAla\tA\tAlanine\t\n",
            "GGA\tGly\tG\tGlycine\n",
            "GGC\tGly\tG\tGlycine\n",
            "GGG\tGly\tG\tGlycine\n",
            "GGT\tGly\tG\tGlycine\n",
            "GTA\tVal\tV\tValine\n",
            "GTC\tVal\tV\tValine\n",
            "GTG\tVal\tV\tValine\n",
            "GTT\tVal\tV\tValine\n",
            "TAA\tStp\tO\tStop\n",
            "TAC\tTyr\tY\tTyrosine\n",
            "TAG\tStp\tO\tStop\n",
            "TAT\tTyr\tY\tTyrosine\n",
            "TCA\tSer\tS\tSerine\n",
            "TCC\tSer\tS\tSerine\n",
            "TCG\tSer\tS\tSerine\n",
            "TCT\tSer\tS\tSerine\n",
            "TGA\tStp\tO\tStop\n",
            "TGC\tCys\tC\tCysteine\n",
            "TGG\tTrp\tW\tTryptophan\n",
            "TGT\tCys\tC\tCysteine\n",
            "TTA\tLeu\tL\tLeucine\n",
            "TTC\tPhe\tF\tPhenylalanine\n",
            "TTG\tLeu\tL\tLeucine\n",
            "TTT\tPhe\tF\tPhenylalanine\n"
          ],
          "name": "stdout"
        }
      ]
    },
    {
      "cell_type": "code",
      "metadata": {
        "id": "fd0249GKegt6",
        "colab_type": "code",
        "colab": {
          "base_uri": "https://localhost:8080/",
          "height": 416
        },
        "outputId": "a672bb4d-9ff7-43ec-cb12-eb2ad32400bd"
      },
      "source": [
        "!more geneticCode.txt\n",
        "#показывает то чт опомещается на странице"
      ],
      "execution_count": 37,
      "outputs": [
        {
          "output_type": "stream",
          "text": [
            "# DNA codon table. Stop codon is coded as: Stp, O, Stop\n",
            "#Codon\t    AminoAcid\tLetter\t FullName\n",
            "AAA\tLys\tK\tLysine\n",
            "AAC\tAsn\tN\tAsparagine\n",
            "AAG\tLys\tK\tLysine\n",
            "AAT\tAsn\tN\tAsparagine\n",
            "ACA\tThr\tT\tThreonine\n",
            "ACC\tThr\tT\tThreonine\n",
            "ACG\tThr\tT\tThreonine\n",
            "ACT\tThr\tT\tThreonine\n",
            "AGA\tArg\tR\tArginine\n",
            "AGC\tSer\tS\tSerine\n",
            "AGG\tArg\tR\tArginine\n",
            "AGT\tSer\tS\tSerine\n",
            "ATA\tIle\tI\tIsoleucine\n",
            "ATC\tIle\tI\tIsoleucine\n",
            "ATG\tMet\tM\tMethionine\n",
            "ATT\tIle\tI\tIsoleucine\n",
            "CAA\tGln\tQ\tGlutamine\n",
            "CAC\tHis\tH\tHistidine\n",
            "CAG\tGln\tQ\tGlutamine\n",
            "CAT\tHis\tH\tHistidine\n",
            "CCA\tPro\tP\tProline\n",
            "\u001b[K"
          ],
          "name": "stdout"
        }
      ]
    },
    {
      "cell_type": "code",
      "metadata": {
        "id": "DgpEe7XXjHq0",
        "colab_type": "code",
        "colab": {}
      },
      "source": [
        ""
      ],
      "execution_count": null,
      "outputs": []
    },
    {
      "cell_type": "code",
      "metadata": {
        "id": "MuhXWoebi53b",
        "colab_type": "code",
        "colab": {}
      },
      "source": [
        "#less - after watch it will bw delited,\n",
        "#if more - scrollbar'll appear"
      ],
      "execution_count": null,
      "outputs": []
    },
    {
      "cell_type": "code",
      "metadata": {
        "id": "aqtrOG0iiEyD",
        "colab_type": "code",
        "colab": {
          "base_uri": "https://localhost:8080/",
          "height": 87
        },
        "outputId": "9e1d6e1e-f22b-408f-f266-8c954f007f4c"
      },
      "source": [
        "!more geneticCode.txt | grep \"Glycine\"\n",
        "#| - change the flow on other function"
      ],
      "execution_count": 36,
      "outputs": [
        {
          "output_type": "stream",
          "text": [
            "GGA\tGly\tG\tGlycine\n",
            "GGC\tGly\tG\tGlycine\n",
            "GGG\tGly\tG\tGlycine\n",
            "GGT\tGly\tG\tGlycine\n"
          ],
          "name": "stdout"
        }
      ]
    },
    {
      "cell_type": "code",
      "metadata": {
        "id": "osgyqPYijkDM",
        "colab_type": "code",
        "colab": {
          "base_uri": "https://localhost:8080/",
          "height": 445
        },
        "outputId": "59788340-cf58-4033-a9cc-c1544f3a6260"
      },
      "source": [
        "!more 16SRNA.txt"
      ],
      "execution_count": null,
      "outputs": [
        {
          "output_type": "stream",
          "text": [
            ">ENA|GU733719.1:1671..3228:rRNA|GU733719.1:1671..3228:rRNA.1 Homo sapiens (human\n",
            ") 16S ribosomal RNA\n",
            "GCTAAACCTAGCCCCAAACCCACTCCACCTTACTACCAGACAACCTTAGCCAAACCATTT\n",
            "ACCCAAATAAAGTATAGGCGATAGAAATTGAAACCTGGCGCAATAGATATAGTACCGCAA\n",
            "GGGAAAGATGAAAAATTATAACCAAGCATAATATAGCAAGGACTAACCCCTATACCTTCT\n",
            "GCATAATGAATTAACTAGAAATAACTTTGCAAGGAGAGCCAAAGCTAAGACCCCCGAAAC\n",
            "CAGACGAGCTACCTAAGAACAGCTAAAAGAGCACACCCGTCTATGTAGCAAAATAGTGGG\n",
            "AAGATTTATAGGTAGAGGCGACAAACCTACCGAGCCTGGTGATAGCTGGTTGTCCAAGAT\n",
            "AGAATCTTAGTTCAACTTTAAATTTGCCCACAGAACCCTCTAAATCCCCTTGTAAATTTA\n",
            "ACTGTTAGTCCAAAGAGGAACAGCTCTTTGGACACTAGGAAAAAACCTTGTAGAGAGAGT\n",
            "AAAAAATTTAACACCCATAGTAGGCCTAAAAGCAGCCACCAATTAAGAAAGCGTTCAAGC\n",
            "TCAACACCCACTACCTNAAAAATCCCAAACATATAACTGAACTCCTCACACCCAATTGGA\n",
            "CCAATCTATCACCCTATAGAAGAACTAATGTTAGTATAAGTAACATGAAAACATTCTCCT\n",
            "CCGCATAAGCCTGCGTCAGATTAAAACACTGAACTGACAATTAACAGCCCAATATCTACA\n",
            "ATCAACCAACAAGTCATTATTACCCTCACTGTCAACCCAACACAGGCATGCTCATAAGGA\n",
            "AAGGTTAAAAAAAGTAAAAGGAACTCGGCAAATCTTACCCCGCCTGTTTACCAAAAACAT\n",
            "CACCTCTAGCATCACCAGTATTAGAGGCACCGCCTGCCCAGTGACACATGTTTAACGGCC\n",
            "GCGGTACCCTAACCGTGCAAAGGTAGCATAATCACTTGTTCCTTAAATAGGGACCTGTAT\n",
            "GAATGGCTCCACGAGGGTTCAGCTGTCTCTTACTTTTAACCAGTGAAATTGACCTGCCCG\n",
            "TGAAGAGGCGGGCATGACACAGCAAGACGAGAAGACCCTATGGAGCTTTAATTTATTAAT\n",
            "GCAAACAGTACCTAACAAACCCACAGGTCCTAAACTACCAAACCTGCATTAAAAATTTCG\n",
            "GTTGGGGCGACCTCGGAGCAGAACCCAACCTCCGAGCAGTACATGCTAAGACTTCACCAG\n",
            "TCAAAGCGAACTACTATACTCAATTGATCCAATAACTTGACCAACGGAACAAGTTACCCT\n",
            "\u001b[7m--More--(82%)\u001b[m"
          ],
          "name": "stdout"
        }
      ]
    },
    {
      "cell_type": "code",
      "metadata": {
        "id": "WCoo4JeCjvxO",
        "colab_type": "code",
        "colab": {}
      },
      "source": [
        "!more 16SRNA.txt | grep \"ATCT\" | wc -l\n",
        "#wc - word count"
      ],
      "execution_count": null,
      "outputs": []
    },
    {
      "cell_type": "code",
      "metadata": {
        "id": "iSvUGVn_kar-",
        "colab_type": "code",
        "colab": {}
      },
      "source": [
        "!more 16SRNA.txt | grep \"ATCT\""
      ],
      "execution_count": null,
      "outputs": []
    },
    {
      "cell_type": "code",
      "metadata": {
        "id": "mCCJG-JIkmAO",
        "colab_type": "code",
        "colab": {}
      },
      "source": [
        ""
      ],
      "execution_count": null,
      "outputs": []
    }
  ]
}