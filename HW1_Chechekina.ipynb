{
 "cells": [
  {
   "cell_type": "code",
   "execution_count": 1,
   "metadata": {},
   "outputs": [],
   "source": [
    "import numpy as np\n",
    "#s for sequence\n",
    "s1 = 'ACGGTAC'\n",
    "s2 = 'ACCCG'"
   ]
  },
  {
   "cell_type": "code",
   "execution_count": 2,
   "metadata": {},
   "outputs": [],
   "source": [
    "matrix=np.zeros((len(s1)+1, len(s2)+1))"
   ]
  },
  {
   "cell_type": "code",
   "execution_count": 3,
   "metadata": {},
   "outputs": [
    {
     "data": {
      "text/plain": [
       "array([[0., 0., 0., 0., 0., 0.],\n",
       "       [0., 0., 0., 0., 0., 0.],\n",
       "       [0., 0., 0., 0., 0., 0.],\n",
       "       [0., 0., 0., 0., 0., 0.],\n",
       "       [0., 0., 0., 0., 0., 0.],\n",
       "       [0., 0., 0., 0., 0., 0.],\n",
       "       [0., 0., 0., 0., 0., 0.],\n",
       "       [0., 0., 0., 0., 0., 0.]])"
      ]
     },
     "execution_count": 3,
     "metadata": {},
     "output_type": "execute_result"
    }
   ],
   "source": [
    "matrix"
   ]
  },
  {
   "cell_type": "code",
   "execution_count": 4,
   "metadata": {},
   "outputs": [],
   "source": [
    "#c for compare\n",
    "c_matrix=np.zeros((len(s1), len(s2)))\n",
    "for i in range(len(s1)):\n",
    "    for j in range(len(s2)):\n",
    "        if s1[i]==s2[j]:\n",
    "            c_matrix[i][j]=1\n",
    "        else:\n",
    "            c_matrix[i][j]=0\n"
   ]
  },
  {
   "cell_type": "code",
   "execution_count": 5,
   "metadata": {},
   "outputs": [
    {
     "data": {
      "text/plain": [
       "array([[1., 0., 0., 0., 0.],\n",
       "       [0., 1., 1., 1., 0.],\n",
       "       [0., 0., 0., 0., 1.],\n",
       "       [0., 0., 0., 0., 1.],\n",
       "       [0., 0., 0., 0., 0.],\n",
       "       [1., 0., 0., 0., 0.],\n",
       "       [0., 1., 1., 1., 0.]])"
      ]
     },
     "execution_count": 5,
     "metadata": {},
     "output_type": "execute_result"
    }
   ],
   "source": [
    "c_matrix"
   ]
  },
  {
   "cell_type": "code",
   "execution_count": 44,
   "metadata": {},
   "outputs": [],
   "source": [
    "match_score=1\n",
    "mismatch_score=-1\n",
    "gap_penalty=-1"
   ]
  },
  {
   "cell_type": "code",
   "execution_count": 45,
   "metadata": {},
   "outputs": [],
   "source": [
    "#r for real\n",
    "def r_matrix(matrix):\n",
    "    for i in range(len(s1)+1):\n",
    "        matrix[i][0]=i*gap_penalty\n",
    "    for j in range(len(s2)+1):\n",
    "        matrix[0][j]=j*gap_penalty\n",
    "    for i in range(1,len(s1)+1):\n",
    "        for j in range(1,len(s2)+1):\n",
    "                matrix[i][j]=max(matrix[i-1][j-1]+c_matrix[i-1][j-1],matrix[i-1][j]+gap_penalty,matrix[i][j-1]+gap_penalty)\n",
    "    return(matrix)             "
   ]
  },
  {
   "cell_type": "code",
   "execution_count": 46,
   "metadata": {},
   "outputs": [
    {
     "data": {
      "text/plain": [
       "array([[ 0., -1., -2., -3., -4., -5.],\n",
       "       [-1.,  1.,  0., -1., -2., -3.],\n",
       "       [-2.,  0.,  2.,  1.,  0., -1.],\n",
       "       [-3., -1.,  1.,  2.,  1.,  1.],\n",
       "       [-4., -2.,  0.,  1.,  2.,  2.],\n",
       "       [-5., -3., -1.,  0.,  1.,  2.],\n",
       "       [-6., -4., -2., -1.,  0.,  1.],\n",
       "       [-7., -5., -3., -1.,  0.,  0.]])"
      ]
     },
     "execution_count": 46,
     "metadata": {},
     "output_type": "execute_result"
    }
   ],
   "source": [
    "r_matrix(matrix)"
   ]
  },
  {
   "cell_type": "code",
   "execution_count": 32,
   "metadata": {},
   "outputs": [],
   "source": [
    "#agnt for alignment\n",
    "agntA=\"\"\n",
    "agntB=\"\"\n",
    "i=len(s1)\n",
    "j=len(s2)\n",
    "while (i >0 or j >0):\n",
    "    if  (i > 0 and j > 0 and matrix[i][j]== matrix[i-1][j-1]+c_matrix[i-1][j-1]):\n",
    "        agntA=s1[i-1] + agntA\n",
    "        agntB=s2[j-1] + agntB\n",
    "        i=i - 1\n",
    "        j=j - 1\n",
    "    elif (i > 0 and matrix[i][j]==matrix[i-1][j] + gap_penalty):\n",
    "        agntA=s1[i-1] + agntA\n",
    "        agntB=\"-\" + agntB\n",
    "        i=i-1\n",
    "    else:\n",
    "        agntA=\"-\" + agntA\n",
    "        agntB=s2[j-1] + agntB\n",
    "        j=j - 1"
   ]
  },
  {
   "cell_type": "code",
   "execution_count": 33,
   "metadata": {},
   "outputs": [
    {
     "data": {
      "text/plain": [
       "'ACGGTAC'"
      ]
     },
     "execution_count": 33,
     "metadata": {},
     "output_type": "execute_result"
    }
   ],
   "source": [
    "agntA"
   ]
  },
  {
   "cell_type": "code",
   "execution_count": 34,
   "metadata": {},
   "outputs": [
    {
     "data": {
      "text/plain": [
       "'AC--CCG'"
      ]
     },
     "execution_count": 34,
     "metadata": {},
     "output_type": "execute_result"
    }
   ],
   "source": [
    "agntB"
   ]
  },
  {
   "cell_type": "code",
   "execution_count": 47,
   "metadata": {},
   "outputs": [],
   "source": [
    "######\n"
   ]
  },
  {
   "cell_type": "code",
   "execution_count": null,
   "metadata": {},
   "outputs": [],
   "source": []
  },
  {
   "cell_type": "code",
   "execution_count": null,
   "metadata": {},
   "outputs": [],
   "source": []
  }
 ],
 "metadata": {
  "kernelspec": {
   "display_name": "Python 3",
   "language": "python",
   "name": "python3"
  },
  "language_info": {
   "codemirror_mode": {
    "name": "ipython",
    "version": 3
   },
   "file_extension": ".py",
   "mimetype": "text/x-python",
   "name": "python",
   "nbconvert_exporter": "python",
   "pygments_lexer": "ipython3",
   "version": "3.7.4"
  }
 },
 "nbformat": 4,
 "nbformat_minor": 2
}
